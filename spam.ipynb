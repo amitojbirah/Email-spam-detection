{
 "cells": [
  {
   "cell_type": "code",
   "execution_count": 41,
   "id": "20a2d493",
   "metadata": {},
   "outputs": [],
   "source": [
    "import pandas as pd\n",
    "import numpy as np"
   ]
  },
  {
   "cell_type": "code",
   "execution_count": 42,
   "id": "cae7ae4b",
   "metadata": {},
   "outputs": [
    {
     "data": {
      "text/html": [
       "<div>\n",
       "<style scoped>\n",
       "    .dataframe tbody tr th:only-of-type {\n",
       "        vertical-align: middle;\n",
       "    }\n",
       "\n",
       "    .dataframe tbody tr th {\n",
       "        vertical-align: top;\n",
       "    }\n",
       "\n",
       "    .dataframe thead th {\n",
       "        text-align: right;\n",
       "    }\n",
       "</style>\n",
       "<table border=\"1\" class=\"dataframe\">\n",
       "  <thead>\n",
       "    <tr style=\"text-align: right;\">\n",
       "      <th></th>\n",
       "      <th>type</th>\n",
       "      <th>text</th>\n",
       "    </tr>\n",
       "  </thead>\n",
       "  <tbody>\n",
       "    <tr>\n",
       "      <th>0</th>\n",
       "      <td>ham</td>\n",
       "      <td>Go until jurong point, crazy.. Available only ...</td>\n",
       "    </tr>\n",
       "    <tr>\n",
       "      <th>1</th>\n",
       "      <td>ham</td>\n",
       "      <td>Ok lar... Joking wif u oni...</td>\n",
       "    </tr>\n",
       "    <tr>\n",
       "      <th>2</th>\n",
       "      <td>spam</td>\n",
       "      <td>Free entry in 2 a wkly comp to win FA Cup fina...</td>\n",
       "    </tr>\n",
       "    <tr>\n",
       "      <th>3</th>\n",
       "      <td>ham</td>\n",
       "      <td>U dun say so early hor... U c already then say...</td>\n",
       "    </tr>\n",
       "    <tr>\n",
       "      <th>4</th>\n",
       "      <td>ham</td>\n",
       "      <td>Nah I don't think he goes to usf, he lives aro...</td>\n",
       "    </tr>\n",
       "  </tbody>\n",
       "</table>\n",
       "</div>"
      ],
      "text/plain": [
       "   type                                               text\n",
       "0   ham  Go until jurong point, crazy.. Available only ...\n",
       "1   ham                      Ok lar... Joking wif u oni...\n",
       "2  spam  Free entry in 2 a wkly comp to win FA Cup fina...\n",
       "3   ham  U dun say so early hor... U c already then say...\n",
       "4   ham  Nah I don't think he goes to usf, he lives aro..."
      ]
     },
     "execution_count": 42,
     "metadata": {},
     "output_type": "execute_result"
    }
   ],
   "source": [
    "dt = pd.read_csv(\"Spam.csv\")\n",
    "dt.head()"
   ]
  },
  {
   "cell_type": "code",
   "execution_count": 43,
   "id": "187a9214",
   "metadata": {},
   "outputs": [],
   "source": [
    "dt['spam'] = dt['type'].map( {'spam':1 , 'ham':0}).astype(int)\n"
   ]
  },
  {
   "cell_type": "code",
   "execution_count": 44,
   "id": "a7bcaf04",
   "metadata": {},
   "outputs": [
    {
     "name": "stdout",
     "output_type": "stream",
     "text": [
      "columns\n",
      "type\n",
      "text\n",
      "spam\n"
     ]
    }
   ],
   "source": [
    "print(\"columns\")\n",
    "for col in dt.columns:\n",
    "    print(col)"
   ]
  },
  {
   "cell_type": "code",
   "execution_count": 45,
   "id": "0929b156",
   "metadata": {},
   "outputs": [
    {
     "name": "stdout",
     "output_type": "stream",
     "text": [
      "rows 116\n",
      "liked column 116\n"
     ]
    }
   ],
   "source": [
    "t= len(dt['type'])\n",
    "print(\"rows\",t)\n",
    "t=len(dt['text'])\n",
    "print(\"liked column\",t)"
   ]
  },
  {
   "cell_type": "markdown",
   "id": "d9475831",
   "metadata": {},
   "source": [
    "## tokenization\n",
    "    "
   ]
  },
  {
   "cell_type": "code",
   "execution_count": 46,
   "id": "a758f39b",
   "metadata": {},
   "outputs": [
    {
     "data": {
      "text/plain": [
       "'Ok lar... Joking wif u oni...'"
      ]
     },
     "execution_count": 46,
     "metadata": {},
     "output_type": "execute_result"
    }
   ],
   "source": [
    "dt['text'][1]"
   ]
  },
  {
   "cell_type": "code",
   "execution_count": 47,
   "id": "24cbd614",
   "metadata": {},
   "outputs": [],
   "source": [
    "def tokenizer(text):\n",
    "    return text.split()"
   ]
  },
  {
   "cell_type": "code",
   "execution_count": 48,
   "id": "b56cad6c",
   "metadata": {},
   "outputs": [],
   "source": [
    "dt['text']=dt['text'].apply(tokenizer)"
   ]
  },
  {
   "cell_type": "code",
   "execution_count": 49,
   "id": "0d0ac7b0",
   "metadata": {},
   "outputs": [
    {
     "data": {
      "text/plain": [
       "['Ok', 'lar...', 'Joking', 'wif', 'u', 'oni...']"
      ]
     },
     "execution_count": 49,
     "metadata": {},
     "output_type": "execute_result"
    }
   ],
   "source": [
    "dt['text'][1]"
   ]
  },
  {
   "cell_type": "markdown",
   "id": "8737703f",
   "metadata": {},
   "source": [
    "## stemming "
   ]
  },
  {
   "cell_type": "code",
   "execution_count": 50,
   "id": "3f9afd29",
   "metadata": {},
   "outputs": [
    {
     "data": {
      "text/plain": [
       "['Ok', 'lar...', 'Joking', 'wif', 'u', 'oni...']"
      ]
     },
     "execution_count": 50,
     "metadata": {},
     "output_type": "execute_result"
    }
   ],
   "source": [
    "dt['text'][1]"
   ]
  },
  {
   "cell_type": "code",
   "execution_count": 51,
   "id": "a208210c",
   "metadata": {},
   "outputs": [],
   "source": [
    "from nltk.stem.snowball import SnowballStemmer\n",
    "porter = SnowballStemmer(\"english\",ignore_stopwords=False)"
   ]
  },
  {
   "cell_type": "code",
   "execution_count": 52,
   "id": "b8f69e1a",
   "metadata": {},
   "outputs": [],
   "source": [
    "def stem_it(text):\n",
    "    return [porter.stem(word) for word in text]"
   ]
  },
  {
   "cell_type": "code",
   "execution_count": 53,
   "id": "ec7ab8bb",
   "metadata": {},
   "outputs": [
    {
     "data": {
      "text/plain": [
       "['ok', 'lar...', 'joke', 'wif', 'u', 'oni...']"
      ]
     },
     "execution_count": 53,
     "metadata": {},
     "output_type": "execute_result"
    }
   ],
   "source": [
    "dt['text'] = dt['text'].apply(stem_it)\n",
    "dt['text'][1]"
   ]
  },
  {
   "cell_type": "markdown",
   "id": "30cba8c0",
   "metadata": {},
   "source": [
    "## lemmitization"
   ]
  },
  {
   "cell_type": "code",
   "execution_count": 68,
   "id": "312836d6",
   "metadata": {},
   "outputs": [
    {
     "data": {
      "text/plain": [
       "['wa,', 'ur', 'openin', 'sentenc', 'veri', 'for']"
      ]
     },
     "execution_count": 68,
     "metadata": {},
     "output_type": "execute_result"
    }
   ],
   "source": [
    "dt['text'][115]"
   ]
  },
  {
   "cell_type": "code",
   "execution_count": 69,
   "id": "680a699e",
   "metadata": {},
   "outputs": [],
   "source": [
    "from nltk.stem import WordNetLemmatizer\n",
    "lemmatizer=WordNetLemmatizer()"
   ]
  },
  {
   "cell_type": "code",
   "execution_count": 70,
   "id": "f8dd7375",
   "metadata": {},
   "outputs": [],
   "source": [
    "def lemmit_it(text):\n",
    "    return [lemmatizer.lemmatize(word,pos=\"a\") for word in text]"
   ]
  },
  {
   "cell_type": "code",
   "execution_count": 79,
   "id": "d2db89e8",
   "metadata": {},
   "outputs": [],
   "source": [
    "dt['text']= dt['text'].apply(lemmit_it)"
   ]
  },
  {
   "cell_type": "code",
   "execution_count": 80,
   "id": "b07dd9b6",
   "metadata": {},
   "outputs": [
    {
     "data": {
      "text/plain": [
       "['wa,', 'ur', 'openin', 'sentenc', 'veri', 'for']"
      ]
     },
     "execution_count": 80,
     "metadata": {},
     "output_type": "execute_result"
    }
   ],
   "source": [
    "dt['text'][115]"
   ]
  },
  {
   "cell_type": "markdown",
   "id": "6ba2eb04",
   "metadata": {},
   "source": [
    "## Removal"
   ]
  },
  {
   "cell_type": "code",
   "execution_count": 81,
   "id": "a291507d",
   "metadata": {},
   "outputs": [],
   "source": [
    "from nltk.corpus import stopwords\n",
    "stop_words=stopwords.words('english')"
   ]
  },
  {
   "cell_type": "code",
   "execution_count": 82,
   "id": "7b2d64e1",
   "metadata": {},
   "outputs": [],
   "source": [
    "def stop_it(text):\n",
    "    review = [word for word in text if not word in stop_words]\n",
    "    return review"
   ]
  },
  {
   "cell_type": "code",
   "execution_count": 96,
   "id": "b0abd42a",
   "metadata": {},
   "outputs": [],
   "source": [
    "dt['text'] = dt['text'].apply(stop_it)"
   ]
  },
  {
   "cell_type": "code",
   "execution_count": 97,
   "id": "a403f70f",
   "metadata": {},
   "outputs": [],
   "source": [
    "dt['text'] = dt['text'].apply(' '.join)"
   ]
  },
  {
   "cell_type": "code",
   "execution_count": 98,
   "id": "133dd718",
   "metadata": {},
   "outputs": [
    {
     "data": {
      "text/plain": [
       "'wa, ur openin sentenc veri'"
      ]
     },
     "execution_count": 98,
     "metadata": {},
     "output_type": "execute_result"
    }
   ],
   "source": [
    "dt['text'][115]"
   ]
  },
  {
   "cell_type": "code",
   "execution_count": 99,
   "id": "e78e7ff4",
   "metadata": {},
   "outputs": [],
   "source": [
    "from sklearn.feature_extraction.text import TfidfVectorizer\n",
    "tfidf = TfidfVectorizer()\n",
    "y = dt.spam.values\n",
    "x = tfidf.fit_transform(dt['text'])"
   ]
  },
  {
   "cell_type": "code",
   "execution_count": 100,
   "id": "485f74b7",
   "metadata": {},
   "outputs": [],
   "source": [
    "from sklearn.model_selection import train_test_split\n",
    "x_train,x_test,y_train,y_test = train_test_split(x,y,random_state=10,test_size=0.2)"
   ]
  },
  {
   "cell_type": "code",
   "execution_count": 101,
   "id": "b047cb7e",
   "metadata": {},
   "outputs": [
    {
     "name": "stdout",
     "output_type": "stream",
     "text": [
      "Accuracy using Logistics: 83.33333333333334\n"
     ]
    }
   ],
   "source": [
    "from sklearn.linear_model import LogisticRegression\n",
    "\n",
    "LR = LogisticRegression()\n",
    "LR.fit(x_train,y_train)\n",
    "y_pred = LR.predict(x_test)\n",
    "\n",
    "from sklearn.metrics import accuracy_score\n",
    "Acc_log = accuracy_score(y_pred, y_test) * 100\n",
    "print(\"Accuracy using Logistics:\",Acc_log)"
   ]
  },
  {
   "cell_type": "code",
   "execution_count": 102,
   "id": "6b0bf400",
   "metadata": {},
   "outputs": [
    {
     "name": "stdout",
     "output_type": "stream",
     "text": [
      "Accuracy using SVC: 83.33333333333334\n"
     ]
    }
   ],
   "source": [
    "from sklearn.svm import LinearSVC\n",
    "\n",
    "LC = LinearSVC(random_state=0)\n",
    "LC.fit(x_train, y_train)\n",
    "y_pred = LC.predict(x_test)\n",
    "Acc_lvc = accuracy_score(y_pred, y_test) * 100\n",
    "print(\"Accuracy using SVC:\",Acc_lvc)"
   ]
  },
  {
   "cell_type": "code",
   "execution_count": 103,
   "id": "3d923289",
   "metadata": {},
   "outputs": [
    {
     "name": "stdout",
     "output_type": "stream",
     "text": [
      "Accuracy using Knn: 87.5\n"
     ]
    }
   ],
   "source": [
    "from sklearn.neighbors import KNeighborsClassifier\n",
    "\n",
    "\n",
    "knn = KNeighborsClassifier(n_neighbors = 3)\n",
    "knn.fit(x_train,y_train)\n",
    "y_pred = knn.predict(x_test)\n",
    "Acc_knn = accuracy_score(y_pred,y_test) * 100\n",
    "print(\"Accuracy using Knn:\",Acc_knn)"
   ]
  },
  {
   "cell_type": "code",
   "execution_count": null,
   "id": "92334feb",
   "metadata": {},
   "outputs": [],
   "source": []
  }
 ],
 "metadata": {
  "kernelspec": {
   "display_name": "Python 3",
   "language": "python",
   "name": "python3"
  },
  "language_info": {
   "codemirror_mode": {
    "name": "ipython",
    "version": 3
   },
   "file_extension": ".py",
   "mimetype": "text/x-python",
   "name": "python",
   "nbconvert_exporter": "python",
   "pygments_lexer": "ipython3",
   "version": "3.8.8"
  }
 },
 "nbformat": 4,
 "nbformat_minor": 5
}
